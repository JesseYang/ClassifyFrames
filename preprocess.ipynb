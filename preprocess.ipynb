{
 "cells": [
  {
   "cell_type": "code",
   "execution_count": 9,
   "metadata": {},
   "outputs": [],
   "source": [
    "import os\n",
    "import shutil\n",
    "import numpy as np\n",
    "import random\n",
    "import cv2\n",
    "\n",
    "from cfgs.config import cfg"
   ]
  },
  {
   "cell_type": "code",
   "execution_count": 10,
   "metadata": {},
   "outputs": [],
   "source": [
    "# 如果设为True，将从整个`classify_frames`文件夹读取，并将清空整个`TARGET_DATA_DIR`文件夹\n",
    "###forbidded True, not modify it \n",
    "is_flash = False"
   ]
  },
  {
   "cell_type": "code",
   "execution_count": 11,
   "metadata": {},
   "outputs": [
    {
     "name": "stdout",
     "output_type": "stream",
     "text": [
      "label_tool/raw_videos/data_20180206\n"
     ]
    }
   ],
   "source": [
    "RAW_DATA_DIRS = ['label_tool/raw_videos/data_20180206']\n",
    "generate_dir_name = 'data_20180206'\n",
    "# 原始数据文件夹，如果不重新生成数据的话，将else部分改为新数据的文件夹\n",
    "if is_flash:\n",
    "    RAW_DATA_DIRS = os.listdir('label_tool/raw_videos')\n",
    "    RAW_DATA_DIRS = [os.path.join('label_tool/raw_videos', i) for i in RAW_DATA_DIRS]\n",
    "\n",
    "TARGET_DATA_DIR = 'data'\n",
    "dataset_name = 'data'\n",
    "os.mkdir(os.path.join(TARGET_DATA_DIR, generate_dir_name))\n",
    "print('\\n'.join(RAW_DATA_DIRS))"
   ]
  },
  {
   "cell_type": "markdown",
   "metadata": {},
   "source": [
    "RAW_DATA_DIR里有视频文本项目的全部数据，分为多个文件夹，以子项目命名，按流程排序\n",
    "\n",
    "1. classify_frames: 视频文件及对应标注txt文件，将用以生成将多帧以灰度图压缩到多通道的(h,w,c)的dat文件及对应的分类，用以训练分类模型\n",
    "2. segment_lines： 整页文本的图片及对应的mask图，经过处理变为小块图片、mask的dat文件、mask图，用以训练分割模型\n",
    "3. recognize_sequences: 单行文本的图片文件及对应文本内容的txt文件，用以训练序列识别的模型\n"
   ]
  },
  {
   "cell_type": "code",
   "execution_count": 12,
   "metadata": {},
   "outputs": [],
   "source": [
    "#continue\n",
    "# if is_flash:\n",
    "#     if os.path.isdir(TARGET_DATA_DIR):\n",
    "#         shutil.rmtree(TARGET_DATA_DIR)\n",
    "#     os.mkdir(TARGET_DATA_DIR)\n",
    "#     print('重建了data文件夹')"
   ]
  },
  {
   "cell_type": "markdown",
   "metadata": {},
   "source": [
    "数据处理部分，`cv2.VideoCapture()`截取所有帧，并根据`cfg.frame_extract`生成所有的结果(shape=(h, w, num_of_frames))"
   ]
  },
  {
   "cell_type": "code",
   "execution_count": 13,
   "metadata": {},
   "outputs": [
    {
     "name": "stdout",
     "output_type": "stream",
     "text": [
      "31\n"
     ]
    }
   ],
   "source": [
    "import time\n",
    "\n",
    "files = []\n",
    "\n",
    "for raw_data_dir in RAW_DATA_DIRS:\n",
    "    for filename in os.listdir(raw_data_dir):\n",
    "        if filename.endswith('txt') or filename.endswith('_result.mp4'):\n",
    "            continue\n",
    "        files.append(os.path.join(raw_data_dir, filename))\n",
    "\n",
    "# print('\\n'.join(files))\n",
    "print(len(files))"
   ]
  },
  {
   "cell_type": "code",
   "execution_count": 14,
   "metadata": {
    "scrolled": true
   },
   "outputs": [
    {
     "name": "stdout",
     "output_type": "stream",
     "text": [
      "processing 1/31\n",
      "读取label_tool/raw_videos/data_20180206/VID_20180205_115506.mp4……\n",
      "processing 2/31\n",
      "读取label_tool/raw_videos/data_20180206/VID_20180205_103647.mp4……\n",
      "processing 3/31\n",
      "读取label_tool/raw_videos/data_20180206/VID_20180205_122133.mp4……\n",
      "processing 4/31\n",
      "读取label_tool/raw_videos/data_20180206/VID_20180205_104601.mp4……\n",
      "processing 5/31\n",
      "读取label_tool/raw_videos/data_20180206/VID_20180205_101803.mp4……\n",
      "processing 6/31\n",
      "读取label_tool/raw_videos/data_20180206/VID_20180205_120028.mp4……\n",
      "processing 7/31\n",
      "读取label_tool/raw_videos/data_20180206/VID_20180205_101718.mp4……\n",
      "processing 8/31\n",
      "读取label_tool/raw_videos/data_20180206/VID_20180205_102958.mp4……\n",
      "processing 9/31\n",
      "读取label_tool/raw_videos/data_20180206/VID_20180205_102923.mp4……\n",
      "processing 10/31\n",
      "读取label_tool/raw_videos/data_20180206/VID_20180205_104342.mp4……\n",
      "processing 11/31\n",
      "读取label_tool/raw_videos/data_20180206/VID_20180205_122238.mp4……\n",
      "processing 12/31\n",
      "读取label_tool/raw_videos/data_20180206/VID_20180205_105752.mp4……\n",
      "processing 13/31\n",
      "读取label_tool/raw_videos/data_20180206/VID_20180205_115339.mp4……\n",
      "processing 14/31\n",
      "读取label_tool/raw_videos/data_20180206/VID_20180205_120911.mp4……\n",
      "processing 15/31\n",
      "读取label_tool/raw_videos/data_20180206/VID_20180205_101851.mp4……\n",
      "processing 16/31\n",
      "读取label_tool/raw_videos/data_20180206/VID_20180205_121108.mp4……\n",
      "processing 17/31\n",
      "读取label_tool/raw_videos/data_20180206/VID_20180205_121022.mp4……\n",
      "processing 18/31\n",
      "读取label_tool/raw_videos/data_20180206/VID_20180205_114148.mp4……\n",
      "processing 19/31\n",
      "读取label_tool/raw_videos/data_20180206/VID_20180205_110413.mp4……\n",
      "processing 20/31\n",
      "读取label_tool/raw_videos/data_20180206/VID_20180205_114302.mp4……\n",
      "processing 21/31\n",
      "读取label_tool/raw_videos/data_20180206/VID_20180205_114618.mp4……\n",
      "processing 22/31\n",
      "读取label_tool/raw_videos/data_20180206/VID_20180205_114223.mp4……\n",
      "processing 23/31\n",
      "读取label_tool/raw_videos/data_20180206/VID_20180205_114342.mp4……\n",
      "processing 24/31\n",
      "读取label_tool/raw_videos/data_20180206/VID_20180205_105834.mp4……\n",
      "processing 25/31\n",
      "读取label_tool/raw_videos/data_20180206/VID_20180205_120114.mp4……\n",
      "processing 26/31\n",
      "读取label_tool/raw_videos/data_20180206/VID_20180205_103739.mp4……\n",
      "processing 27/31\n",
      "读取label_tool/raw_videos/data_20180206/VID_20180205_122056.mp4……\n",
      "processing 28/31\n",
      "读取label_tool/raw_videos/data_20180206/VID_20180205_105711.mp4……\n",
      "processing 29/31\n",
      "读取label_tool/raw_videos/data_20180206/VID_20180205_115418.mp4……\n",
      "processing 30/31\n",
      "读取label_tool/raw_videos/data_20180206/VID_20180205_104451.mp4……\n",
      "processing 31/31\n",
      "读取label_tool/raw_videos/data_20180206/VID_20180205_115950.mp4……\n",
      "over\n"
     ]
    }
   ],
   "source": [
    "# 对所有文件进行数据生成\n",
    "for idx, file in enumerate(files):\n",
    "    piece_cnt = 0\n",
    "    frames = []\n",
    "    START = time.time()\n",
    "    print('processing {}/{}'.format(idx+1, len(files)))\n",
    "    print('读取{}……'.format(file))\n",
    "    cap = cv2.VideoCapture(file)\n",
    "    total_frame = int(cap.get(cv2.CAP_PROP_FRAME_COUNT))\n",
    "    os.mkdir(os.path.join(TARGET_DATA_DIR, generate_dir_name, '.'.join(file.split('/')[-1].split('.')[:-1])))\n",
    "    \n",
    "    filename = '.'.join(file.split('/')[-1].split('.')[:-1])\n",
    "    extension = file.split('/')[-1].split('.')[-1]\n",
    "    for i in range(total_frame):\n",
    "        a, b = cap.read()\n",
    "        if a:\n",
    "            frame = cv2.cvtColor(b, cv2.COLOR_BGR2GRAY)\n",
    "            frame = cv2.resize(frame, (224, 224))\n",
    "            frames.append(frame)\n",
    "            cv2.imwrite(os.path.join(TARGET_DATA_DIR, generate_dir_name, filename, '{}.png'.format(i)), frame)\n",
    "#     shutil.copy('.'.join(file.split('.')[:-1]) + '.txt', os.path.join(TARGET_DATA_DIR, filename, 'labels.txt'))\n",
    "    shutil.copy(os.path.join('label_tool/labels', filename + '.txt'), os.path.join(TARGET_DATA_DIR, generate_dir_name, filename, 'labels.txt'))\n",
    "    END = time.time()\n",
    "#     print('完成了{}, 耗时{}s'.format(file, END - START))\n",
    "print(\"over\")"
   ]
  },
  {
   "cell_type": "code",
   "execution_count": null,
   "metadata": {},
   "outputs": [],
   "source": []
  },
  {
   "cell_type": "code",
   "execution_count": null,
   "metadata": {},
   "outputs": [],
   "source": []
  }
 ],
 "metadata": {
  "kernelspec": {
   "display_name": "Python 3",
   "language": "python",
   "name": "python3"
  },
  "language_info": {
   "codemirror_mode": {
    "name": "ipython",
    "version": 3
   },
   "file_extension": ".py",
   "mimetype": "text/x-python",
   "name": "python",
   "nbconvert_exporter": "python",
   "pygments_lexer": "ipython3",
   "version": "3.5.2"
  }
 },
 "nbformat": 4,
 "nbformat_minor": 2
}
