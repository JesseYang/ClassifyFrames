{
 "cells": [
  {
   "cell_type": "code",
   "execution_count": 1,
   "metadata": {},
   "outputs": [],
   "source": [
    "import os\n",
    "import random"
   ]
  },
  {
   "cell_type": "code",
   "execution_count": null,
   "metadata": {},
   "outputs": [],
   "source": []
  },
  {
   "cell_type": "code",
   "execution_count": 2,
   "metadata": {},
   "outputs": [
    {
     "name": "stdout",
     "output_type": "stream",
     "text": [
      "['data/data_20171204', 'data/data_20180109', 'data/data_20171211', 'data/data_20171127', 'data/data_20170828', 'data/data_20180206', 'data/data_20180119']\n"
     ]
    }
   ],
   "source": [
    "root_dir = \"data\"\n",
    "dataset_name = 'data'\n",
    "date_paths = [os.path.join(root_dir, e) for e in os.listdir(root_dir)]\n",
    "print(date_paths)"
   ]
  },
  {
   "cell_type": "code",
   "execution_count": 3,
   "metadata": {},
   "outputs": [],
   "source": [
    "video_paths = []\n",
    "for date_path in date_paths:\n",
    "    video_paths += [os.path.join(date_path, e) for e in os.listdir(date_path) if not e.endswith('_result')]"
   ]
  },
  {
   "cell_type": "code",
   "execution_count": null,
   "metadata": {},
   "outputs": [],
   "source": []
  },
  {
   "cell_type": "code",
   "execution_count": 4,
   "metadata": {},
   "outputs": [],
   "source": [
    "records = []\n",
    "for video_path in video_paths:\n",
    "#     print(video_path)\n",
    "#     break\n",
    "    label_path = os.path.join(video_path, 'labels.txt')\n",
    "    \n",
    "    with open(label_path) as f:\n",
    "        labels = f.read()\n",
    "    \n",
    "    for img_idx in range(len(labels)):\n",
    "        img_path = os.path.join(video_path, \"%d.png\" % img_idx)\n",
    "        label = labels[img_idx]\n",
    "        record = \"%s %s\\n\" % (img_path, label)\n",
    "        records.append(record)\n",
    "    \n",
    "#     break"
   ]
  },
  {
   "cell_type": "code",
   "execution_count": 5,
   "metadata": {},
   "outputs": [
    {
     "name": "stdout",
     "output_type": "stream",
     "text": [
      "212296\n"
     ]
    }
   ],
   "source": [
    "print(len(records))"
   ]
  },
  {
   "cell_type": "code",
   "execution_count": null,
   "metadata": {},
   "outputs": [],
   "source": []
  },
  {
   "cell_type": "code",
   "execution_count": 6,
   "metadata": {},
   "outputs": [],
   "source": [
    "# 将所有数据分为训练集与测试集\n",
    "random.shuffle(records)\n",
    "test_ratio = 0.1\n",
    "total_num = len(records)\n",
    "test_num = int(test_ratio * total_num)\n",
    "train_num = total_num - test_num\n",
    "train_records = records[0:train_num]\n",
    "test_records = records[train_num:]"
   ]
  },
  {
   "cell_type": "code",
   "execution_count": 7,
   "metadata": {},
   "outputs": [],
   "source": [
    "# save to text file\n",
    "all_out_file = open(dataset_name + \"_all.txt\", \"w\")\n",
    "for record in records:\n",
    "    all_out_file.write(record)\n",
    "all_out_file.close()\n",
    "\n",
    "train_out_file = open(dataset_name + \"_train.txt\", \"w\")\n",
    "for record in train_records:\n",
    "    train_out_file.write(record)\n",
    "train_out_file.close()\n",
    "\n",
    "test_out_file = open(dataset_name + \"_test.txt\", \"w\")\n",
    "for record in test_records:\n",
    "    test_out_file.write(record)\n",
    "test_out_file.close()"
   ]
  },
  {
   "cell_type": "code",
   "execution_count": null,
   "metadata": {},
   "outputs": [],
   "source": []
  }
 ],
 "metadata": {
  "kernelspec": {
   "display_name": "Python 3",
   "language": "python",
   "name": "python3"
  },
  "language_info": {
   "codemirror_mode": {
    "name": "ipython",
    "version": 3
   },
   "file_extension": ".py",
   "mimetype": "text/x-python",
   "name": "python",
   "nbconvert_exporter": "python",
   "pygments_lexer": "ipython3",
   "version": "3.5.2"
  }
 },
 "nbformat": 4,
 "nbformat_minor": 2
}
